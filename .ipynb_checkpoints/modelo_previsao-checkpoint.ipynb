{
 "cells": [
  {
   "cell_type": "code",
   "execution_count": 1,
   "id": "ddadab7d",
   "metadata": {
    "vscode": {
     "languageId": "plaintext"
    }
   },
   "outputs": [
    {
     "name": "stdout",
     "output_type": "stream",
     "text": [
      "Modelo treinado e salvo com sucesso em 'model/modelo_vendas.joblib'\n"
     ]
    }
   ],
   "source": [
    "import pandas as pd\n",
    "from sklearn.linear_model import LinearRegression\n",
    "import joblib\n",
    "\n",
    "# 1. Carregar os dados\n",
    "df = pd.read_csv('dados_vendas_sazonal.csv')\n",
    "\n",
    "# 2. Engenharia de Features: Transformar a data em algo que o modelo entenda\n",
    "# A regressão linear precisa de números. Vamos transformar a data em um \"índice de tempo\".\n",
    "df['Data'] = pd.to_datetime(df['Data'])\n",
    "df['IndiceTempo'] = (df['Data'] - df['Data'].min()).dt.days\n",
    "\n",
    "# 3. Preparar os dados para o modelo\n",
    "X = df[['IndiceTempo']] # Features (variáveis de entrada)\n",
    "y = df['Vendas']       # Target (o que queremos prever)\n",
    "\n",
    "# 4. Treinar o modelo de Regressão Linear\n",
    "model = LinearRegression()\n",
    "model.fit(X, y)\n",
    "\n",
    "# 5. Salvar o modelo treinado na pasta 'model'\n",
    "# O 'compress=3' ajuda a otimizar o tamanho do arquivo\n",
    "joblib.dump(model, 'model/modelo_vendas.joblib', compress=3)\n",
    "\n",
    "print(\"Modelo treinado e salvo com sucesso em 'model/modelo_vendas.joblib'\")"
   ]
  },
  {
   "cell_type": "code",
   "execution_count": null,
   "id": "ee18c060-2af0-44cf-9a75-fd766e967491",
   "metadata": {},
   "outputs": [],
   "source": []
  }
 ],
 "metadata": {
  "kernelspec": {
   "display_name": "Python 3 (ipykernel)",
   "language": "python",
   "name": "python3"
  },
  "language_info": {
   "codemirror_mode": {
    "name": "ipython",
    "version": 3
   },
   "file_extension": ".py",
   "mimetype": "text/x-python",
   "name": "python",
   "nbconvert_exporter": "python",
   "pygments_lexer": "ipython3",
   "version": "3.13.3"
  }
 },
 "nbformat": 4,
 "nbformat_minor": 5
}
